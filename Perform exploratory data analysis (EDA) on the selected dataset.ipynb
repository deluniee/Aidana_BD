{
  "nbformat": 4,
  "nbformat_minor": 0,
  "metadata": {
    "colab": {
      "provenance": []
    },
    "kernelspec": {
      "name": "python3",
      "display_name": "Python 3"
    },
    "language_info": {
      "name": "python"
    }
  },
  "cells": [
    {
      "cell_type": "code",
      "execution_count": 1,
      "metadata": {
        "id": "zD0Sng9vHolv"
      },
      "outputs": [],
      "source": [
        "# Aidana Ramazanova\n",
        "\n",
        "# 1. Define a problem or goal of your analysis.\n",
        "# The goal of this analysis is to understand the distribution and correlation of law enforcement employees, officers, and civilians across different agencies."
      ]
    },
    {
      "cell_type": "code",
      "source": [
        "# 2. Prepare your data (ETL).\n",
        "\n",
        "# Upload from Local Drive\n",
        "from google.colab import files\n",
        "uploaded = files.upload()\n"
      ],
      "metadata": {
        "colab": {
          "base_uri": "https://localhost:8080/",
          "height": 73
        },
        "id": "ibi103A_KmkE",
        "outputId": "e727da19-3bf0-4499-8e69-469492cbfa77"
      },
      "execution_count": 2,
      "outputs": [
        {
          "output_type": "display_data",
          "data": {
            "text/plain": [
              "<IPython.core.display.HTML object>"
            ],
            "text/html": [
              "\n",
              "     <input type=\"file\" id=\"files-722198a6-f370-4f9c-9dc2-1c4747d1d025\" name=\"files[]\" multiple disabled\n",
              "        style=\"border:none\" />\n",
              "     <output id=\"result-722198a6-f370-4f9c-9dc2-1c4747d1d025\">\n",
              "      Upload widget is only available when the cell has been executed in the\n",
              "      current browser session. Please rerun this cell to enable.\n",
              "      </output>\n",
              "      <script>// Copyright 2017 Google LLC\n",
              "//\n",
              "// Licensed under the Apache License, Version 2.0 (the \"License\");\n",
              "// you may not use this file except in compliance with the License.\n",
              "// You may obtain a copy of the License at\n",
              "//\n",
              "//      http://www.apache.org/licenses/LICENSE-2.0\n",
              "//\n",
              "// Unless required by applicable law or agreed to in writing, software\n",
              "// distributed under the License is distributed on an \"AS IS\" BASIS,\n",
              "// WITHOUT WARRANTIES OR CONDITIONS OF ANY KIND, either express or implied.\n",
              "// See the License for the specific language governing permissions and\n",
              "// limitations under the License.\n",
              "\n",
              "/**\n",
              " * @fileoverview Helpers for google.colab Python module.\n",
              " */\n",
              "(function(scope) {\n",
              "function span(text, styleAttributes = {}) {\n",
              "  const element = document.createElement('span');\n",
              "  element.textContent = text;\n",
              "  for (const key of Object.keys(styleAttributes)) {\n",
              "    element.style[key] = styleAttributes[key];\n",
              "  }\n",
              "  return element;\n",
              "}\n",
              "\n",
              "// Max number of bytes which will be uploaded at a time.\n",
              "const MAX_PAYLOAD_SIZE = 100 * 1024;\n",
              "\n",
              "function _uploadFiles(inputId, outputId) {\n",
              "  const steps = uploadFilesStep(inputId, outputId);\n",
              "  const outputElement = document.getElementById(outputId);\n",
              "  // Cache steps on the outputElement to make it available for the next call\n",
              "  // to uploadFilesContinue from Python.\n",
              "  outputElement.steps = steps;\n",
              "\n",
              "  return _uploadFilesContinue(outputId);\n",
              "}\n",
              "\n",
              "// This is roughly an async generator (not supported in the browser yet),\n",
              "// where there are multiple asynchronous steps and the Python side is going\n",
              "// to poll for completion of each step.\n",
              "// This uses a Promise to block the python side on completion of each step,\n",
              "// then passes the result of the previous step as the input to the next step.\n",
              "function _uploadFilesContinue(outputId) {\n",
              "  const outputElement = document.getElementById(outputId);\n",
              "  const steps = outputElement.steps;\n",
              "\n",
              "  const next = steps.next(outputElement.lastPromiseValue);\n",
              "  return Promise.resolve(next.value.promise).then((value) => {\n",
              "    // Cache the last promise value to make it available to the next\n",
              "    // step of the generator.\n",
              "    outputElement.lastPromiseValue = value;\n",
              "    return next.value.response;\n",
              "  });\n",
              "}\n",
              "\n",
              "/**\n",
              " * Generator function which is called between each async step of the upload\n",
              " * process.\n",
              " * @param {string} inputId Element ID of the input file picker element.\n",
              " * @param {string} outputId Element ID of the output display.\n",
              " * @return {!Iterable<!Object>} Iterable of next steps.\n",
              " */\n",
              "function* uploadFilesStep(inputId, outputId) {\n",
              "  const inputElement = document.getElementById(inputId);\n",
              "  inputElement.disabled = false;\n",
              "\n",
              "  const outputElement = document.getElementById(outputId);\n",
              "  outputElement.innerHTML = '';\n",
              "\n",
              "  const pickedPromise = new Promise((resolve) => {\n",
              "    inputElement.addEventListener('change', (e) => {\n",
              "      resolve(e.target.files);\n",
              "    });\n",
              "  });\n",
              "\n",
              "  const cancel = document.createElement('button');\n",
              "  inputElement.parentElement.appendChild(cancel);\n",
              "  cancel.textContent = 'Cancel upload';\n",
              "  const cancelPromise = new Promise((resolve) => {\n",
              "    cancel.onclick = () => {\n",
              "      resolve(null);\n",
              "    };\n",
              "  });\n",
              "\n",
              "  // Wait for the user to pick the files.\n",
              "  const files = yield {\n",
              "    promise: Promise.race([pickedPromise, cancelPromise]),\n",
              "    response: {\n",
              "      action: 'starting',\n",
              "    }\n",
              "  };\n",
              "\n",
              "  cancel.remove();\n",
              "\n",
              "  // Disable the input element since further picks are not allowed.\n",
              "  inputElement.disabled = true;\n",
              "\n",
              "  if (!files) {\n",
              "    return {\n",
              "      response: {\n",
              "        action: 'complete',\n",
              "      }\n",
              "    };\n",
              "  }\n",
              "\n",
              "  for (const file of files) {\n",
              "    const li = document.createElement('li');\n",
              "    li.append(span(file.name, {fontWeight: 'bold'}));\n",
              "    li.append(span(\n",
              "        `(${file.type || 'n/a'}) - ${file.size} bytes, ` +\n",
              "        `last modified: ${\n",
              "            file.lastModifiedDate ? file.lastModifiedDate.toLocaleDateString() :\n",
              "                                    'n/a'} - `));\n",
              "    const percent = span('0% done');\n",
              "    li.appendChild(percent);\n",
              "\n",
              "    outputElement.appendChild(li);\n",
              "\n",
              "    const fileDataPromise = new Promise((resolve) => {\n",
              "      const reader = new FileReader();\n",
              "      reader.onload = (e) => {\n",
              "        resolve(e.target.result);\n",
              "      };\n",
              "      reader.readAsArrayBuffer(file);\n",
              "    });\n",
              "    // Wait for the data to be ready.\n",
              "    let fileData = yield {\n",
              "      promise: fileDataPromise,\n",
              "      response: {\n",
              "        action: 'continue',\n",
              "      }\n",
              "    };\n",
              "\n",
              "    // Use a chunked sending to avoid message size limits. See b/62115660.\n",
              "    let position = 0;\n",
              "    do {\n",
              "      const length = Math.min(fileData.byteLength - position, MAX_PAYLOAD_SIZE);\n",
              "      const chunk = new Uint8Array(fileData, position, length);\n",
              "      position += length;\n",
              "\n",
              "      const base64 = btoa(String.fromCharCode.apply(null, chunk));\n",
              "      yield {\n",
              "        response: {\n",
              "          action: 'append',\n",
              "          file: file.name,\n",
              "          data: base64,\n",
              "        },\n",
              "      };\n",
              "\n",
              "      let percentDone = fileData.byteLength === 0 ?\n",
              "          100 :\n",
              "          Math.round((position / fileData.byteLength) * 100);\n",
              "      percent.textContent = `${percentDone}% done`;\n",
              "\n",
              "    } while (position < fileData.byteLength);\n",
              "  }\n",
              "\n",
              "  // All done.\n",
              "  yield {\n",
              "    response: {\n",
              "      action: 'complete',\n",
              "    }\n",
              "  };\n",
              "}\n",
              "\n",
              "scope.google = scope.google || {};\n",
              "scope.google.colab = scope.google.colab || {};\n",
              "scope.google.colab._files = {\n",
              "  _uploadFiles,\n",
              "  _uploadFilesContinue,\n",
              "};\n",
              "})(self);\n",
              "</script> "
            ]
          },
          "metadata": {}
        },
        {
          "output_type": "stream",
          "name": "stdout",
          "text": [
            "Saving ca_law_enforcement_by_agency.csv to ca_law_enforcement_by_agency.csv\n"
          ]
        }
      ]
    },
    {
      "cell_type": "code",
      "source": [
        "# Import necessary libraries\n",
        "import io\n",
        "from google.colab import files\n",
        "import pandas as pd"
      ],
      "metadata": {
        "id": "4EvJavstLB7J"
      },
      "execution_count": 4,
      "outputs": []
    },
    {
      "cell_type": "code",
      "source": [
        "import pandas as pd\n",
        "df = pd.read_csv(io.BytesIO(uploaded['ca_law_enforcement_by_agency.csv']))"
      ],
      "metadata": {
        "id": "JsIT5y-OKmgo"
      },
      "execution_count": 5,
      "outputs": []
    },
    {
      "cell_type": "code",
      "source": [
        "# Renaming the columns for easier access\n",
        "df.columns = ['State/Tribal/Other', 'Agency', 'Unit/Office', 'Total Law Enforcement Employees', 'Total Officers', 'Total Civilians']"
      ],
      "metadata": {
        "id": "GExtdcaYKmea"
      },
      "execution_count": 6,
      "outputs": []
    },
    {
      "cell_type": "code",
      "source": [
        "# Filling missing values in 'Unit/Office' with 'Not Specified'\n",
        "df['Unit/Office'].fillna('Not Specified', inplace=True)"
      ],
      "metadata": {
        "id": "b3YGRnmdKmcF"
      },
      "execution_count": 7,
      "outputs": []
    },
    {
      "cell_type": "code",
      "source": [
        "# 3. Perform exploratory data analysis (EDA) on the selected dataset.\n",
        "\n",
        "# Check first few rows\n",
        "print(df.head())"
      ],
      "metadata": {
        "colab": {
          "base_uri": "https://localhost:8080/"
        },
        "id": "sPqm3KWFKl7f",
        "outputId": "df5675ae-ca16-4359-d797-9277ceb59990"
      },
      "execution_count": 8,
      "outputs": [
        {
          "output_type": "stream",
          "name": "stdout",
          "text": [
            "  State/Tribal/Other                              Agency    Unit/Office  \\\n",
            "0     State Agencies           Atascadero State Hospital  Not Specified   \n",
            "1     State Agencies               California State Fair  Not Specified   \n",
            "2     State Agencies             Coalinga State Hospital  Not Specified   \n",
            "3     State Agencies  Department of Parks and Recreation        Capital   \n",
            "4     State Agencies       Fairview Developmental Center  Not Specified   \n",
            "\n",
            "   Total Law Enforcement Employees  Total Officers  Total Civilians  \n",
            "0                              139             128               11  \n",
            "1                                3               3                0  \n",
            "2                              228             210               18  \n",
            "3                              560             530               30  \n",
            "4                               17              14                3  \n"
          ]
        }
      ]
    },
    {
      "cell_type": "code",
      "source": [
        "# Summary statistics\n",
        "print(df.describe())\n"
      ],
      "metadata": {
        "colab": {
          "base_uri": "https://localhost:8080/"
        },
        "id": "LHGpmlXWKl3_",
        "outputId": "7f1a3d0c-f311-4349-c1ce-764eb83f390d"
      },
      "execution_count": 9,
      "outputs": [
        {
          "output_type": "stream",
          "name": "stdout",
          "text": [
            "       Total Law Enforcement Employees  Total Officers  Total Civilians\n",
            "count                        26.000000       26.000000        26.000000\n",
            "mean                         79.576923       63.923077        15.653846\n",
            "std                         121.414389      112.015329        20.409688\n",
            "min                           2.000000        2.000000         0.000000\n",
            "25%                          17.000000        7.000000         3.000000\n",
            "50%                          27.000000       18.000000         8.500000\n",
            "75%                          84.000000       66.500000        19.500000\n",
            "max                         560.000000      530.000000        88.000000\n"
          ]
        }
      ]
    },
    {
      "cell_type": "code",
      "source": [
        "# Investigate DataFrame\n",
        "df.info()"
      ],
      "metadata": {
        "colab": {
          "base_uri": "https://localhost:8080/"
        },
        "id": "wfjREf7YKl2U",
        "outputId": "e4161ac5-59de-413e-9b28-8546ce347e1f"
      },
      "execution_count": 10,
      "outputs": [
        {
          "output_type": "stream",
          "name": "stdout",
          "text": [
            "<class 'pandas.core.frame.DataFrame'>\n",
            "RangeIndex: 26 entries, 0 to 25\n",
            "Data columns (total 6 columns):\n",
            " #   Column                           Non-Null Count  Dtype \n",
            "---  ------                           --------------  ----- \n",
            " 0   State/Tribal/Other               26 non-null     object\n",
            " 1   Agency                           26 non-null     object\n",
            " 2   Unit/Office                      26 non-null     object\n",
            " 3   Total Law Enforcement Employees  26 non-null     int64 \n",
            " 4   Total Officers                   26 non-null     int64 \n",
            " 5   Total Civilians                  26 non-null     int64 \n",
            "dtypes: int64(3), object(3)\n",
            "memory usage: 1.3+ KB\n"
          ]
        }
      ]
    },
    {
      "cell_type": "code",
      "source": [
        "# Check for Missing Values\n",
        "df.isnull().sum()"
      ],
      "metadata": {
        "colab": {
          "base_uri": "https://localhost:8080/"
        },
        "id": "Fc3qbTzcKl0f",
        "outputId": "4f46e9bc-e0fe-4d51-8b86-120cd461e239"
      },
      "execution_count": 11,
      "outputs": [
        {
          "output_type": "execute_result",
          "data": {
            "text/plain": [
              "State/Tribal/Other                 0\n",
              "Agency                             0\n",
              "Unit/Office                        0\n",
              "Total Law Enforcement Employees    0\n",
              "Total Officers                     0\n",
              "Total Civilians                    0\n",
              "dtype: int64"
            ]
          },
          "metadata": {},
          "execution_count": 11
        }
      ]
    },
    {
      "cell_type": "code",
      "source": [
        "# Check Column Names\n",
        "df.columns"
      ],
      "metadata": {
        "colab": {
          "base_uri": "https://localhost:8080/"
        },
        "id": "5aCVU2r2KlyP",
        "outputId": "e01e4828-bac5-433c-8d0b-f2850913dee2"
      },
      "execution_count": 12,
      "outputs": [
        {
          "output_type": "execute_result",
          "data": {
            "text/plain": [
              "Index(['State/Tribal/Other', 'Agency', 'Unit/Office',\n",
              "       'Total Law Enforcement Employees', 'Total Officers', 'Total Civilians'],\n",
              "      dtype='object')"
            ]
          },
          "metadata": {},
          "execution_count": 12
        }
      ]
    },
    {
      "cell_type": "code",
      "source": [
        "# Checking the data types of the columns\n",
        "print(df.dtypes)"
      ],
      "metadata": {
        "colab": {
          "base_uri": "https://localhost:8080/"
        },
        "id": "9KumXltQKlv1",
        "outputId": "5180852a-c1dd-4755-8c45-fd1d947348ab"
      },
      "execution_count": 13,
      "outputs": [
        {
          "output_type": "stream",
          "name": "stdout",
          "text": [
            "State/Tribal/Other                 object\n",
            "Agency                             object\n",
            "Unit/Office                        object\n",
            "Total Law Enforcement Employees     int64\n",
            "Total Officers                      int64\n",
            "Total Civilians                     int64\n",
            "dtype: object\n"
          ]
        }
      ]
    },
    {
      "cell_type": "code",
      "source": [
        "# Check the number of unique agencies\n",
        "print(f\"Number of unique agencies: {df['Agency'].nunique()}\")"
      ],
      "metadata": {
        "colab": {
          "base_uri": "https://localhost:8080/"
        },
        "id": "41jesksqKlsD",
        "outputId": "a20833a5-d198-41ec-acac-f4d590604d14"
      },
      "execution_count": 14,
      "outputs": [
        {
          "output_type": "stream",
          "name": "stdout",
          "text": [
            "Number of unique agencies: 26\n"
          ]
        }
      ]
    },
    {
      "cell_type": "code",
      "source": [
        "# Check the distribution of agencies\n",
        "print(df['Agency'].value_counts())\n"
      ],
      "metadata": {
        "colab": {
          "base_uri": "https://localhost:8080/"
        },
        "id": "WdbpJBeJKlpy",
        "outputId": "6ed7a98a-3e53-4ba7-b6eb-535b6b7461ff"
      },
      "execution_count": 15,
      "outputs": [
        {
          "output_type": "stream",
          "name": "stdout",
          "text": [
            "Atascadero State Hospital                 1\n",
            "California State Fair                     1\n",
            "Stockton Unified School District          1\n",
            "Shasta County Marshal                     1\n",
            "San Francisco Bay Area Rapid Transit      1\n",
            "San Bernardino Unified School District    1\n",
            "Port of San Diego Harbor                  1\n",
            "Monterey Peninsula Airport                1\n",
            "Fontana Unified School District           1\n",
            "East Bay Regional Parks                   1\n",
            "Yurok Tribal                              1\n",
            "Tule River Tribal                         1\n",
            "Table Mountain Rancheria                  1\n",
            "Sycuan Tribal                             1\n",
            "Los Coyotes Tribal                        1\n",
            "La Jolla Tribal                           1\n",
            "Hoopa Valley Tribal                       1\n",
            "Coyote Valley Tribal                      1\n",
            "Sonoma Developmental Center               1\n",
            "Porterville Developmental Center          1\n",
            "Patton State Hospital                     1\n",
            "Napa State Hospital                       1\n",
            "Fairview Developmental Center             1\n",
            "Department of Parks and Recreation        1\n",
            "Coalinga State Hospital                   1\n",
            "Twin Rivers Unified School District       1\n",
            "Name: Agency, dtype: int64\n"
          ]
        }
      ]
    },
    {
      "cell_type": "code",
      "source": [],
      "metadata": {
        "id": "3JcuCCfXKlng"
      },
      "execution_count": null,
      "outputs": []
    },
    {
      "cell_type": "code",
      "source": [],
      "metadata": {
        "id": "AcM0wKiJKlla"
      },
      "execution_count": null,
      "outputs": []
    }
  ]
}